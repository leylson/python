{
 "cells": [
  {
   "cell_type": "markdown",
   "metadata": {},
   "source": [
    "## Módulo 4 Python"
   ]
  },
  {
   "cell_type": "code",
   "execution_count": 1,
   "metadata": {},
   "outputs": [
    {
     "name": "stdout",
     "output_type": "stream",
     "text": [
      "True\n"
     ]
    }
   ],
   "source": [
    "print('L' in 'Leylson')"
   ]
  },
  {
   "cell_type": "code",
   "execution_count": 2,
   "metadata": {},
   "outputs": [
    {
     "name": "stdout",
     "output_type": "stream",
     "text": [
      "100\n"
     ]
    }
   ],
   "source": [
    "qtd_vendas = 100\n",
    "qtd_credito = 50,5\n",
    "print(qtd_vendas)"
   ]
  },
  {
   "cell_type": "code",
   "execution_count": 3,
   "metadata": {},
   "outputs": [
    {
     "name": "stdout",
     "output_type": "stream",
     "text": [
      "leylson rodrigues\n"
     ]
    }
   ],
   "source": [
    "nome = input('Qual o seu nome?')\n",
    "sobrenome = input('Qual seu sobrenome')\n",
    "print(nome +' '+ sobrenome)"
   ]
  },
  {
   "cell_type": "markdown",
   "metadata": {},
   "source": [
    "Quantidade de Vendas de Coca = 150\n",
    "Quantidade de Vendas de Pepsi = 130\n",
    "Preço Unitário da Coca = 1.50\n",
    "Preço Unitário da Pepsi = 1.50\n",
    "Custo da Loja: 2,500,00"
   ]
  },
  {
   "cell_type": "code",
   "execution_count": 4,
   "metadata": {},
   "outputs": [
    {
     "name": "stdout",
     "output_type": "stream",
     "text": [
      "Resultado do faturamento da Pepsi é de:\n",
      "195.0\n",
      "Resultado do faturamento da Coca é de:\n",
      "225.0\n",
      "O resultado do lucro foi de:\n",
      "-2080.0\n",
      "A margem da loja foi de:\n",
      "-4.9523809523809526\n"
     ]
    }
   ],
   "source": [
    "qtd_vendascoca = 150\n",
    "qtd_vendaspepsi = 130\n",
    "preco_undcoca = 1.50\n",
    "preco_undpepsi = 1.50\n",
    "custo_loja = 2500\n",
    "\n",
    "result_faturamento = qtd_vendaspepsi * preco_undpepsi\n",
    "print('Resultado do faturamento da Pepsi é de:')\n",
    "print(result_faturamento)\n",
    "\n",
    "\n",
    "result_faturamento = qtd_vendascoca * preco_undcoca\n",
    "print('Resultado do faturamento da Coca é de:')\n",
    "print(result_faturamento)\n",
    "\n",
    "result_faturamento = qtd_vendaspepsi * preco_undpepsi + qtd_vendascoca * preco_undcoca\n",
    "lucro = result_faturamento - custo_loja\n",
    "print('O resultado do lucro foi de:')\n",
    "print(lucro)\n",
    "\n",
    "\n",
    "margem_loja = lucro / result_faturamento\n",
    "print('A margem da loja foi de:')\n",
    "print(margem_loja)"
   ]
  },
  {
   "cell_type": "code",
   "execution_count": 5,
   "metadata": {},
   "outputs": [
    {
     "name": "stdout",
     "output_type": "stream",
     "text": [
      "Essa bebida contem teor alcoolico?\n",
      "False\n"
     ]
    }
   ],
   "source": [
    "bebida = input('Informe o código da bebida:')\n",
    "print('Essa bebida contem teor alcoolico?')\n",
    "print('BAC' in bebida)"
   ]
  },
  {
   "cell_type": "markdown",
   "metadata": {},
   "source": [
    " Tipos de Variáveis\n",
    "int-> Inteiro\n",
    "string-> Texto\n",
    "float-> números com casas decimais(ponto flutuante)\n",
    "bool ou boolean-> True ou False"
   ]
  },
  {
   "cell_type": "code",
   "execution_count": 6,
   "metadata": {},
   "outputs": [
    {
     "data": {
      "text/plain": [
       "bool"
      ]
     },
     "execution_count": 6,
     "metadata": {},
     "output_type": "execute_result"
    }
   ],
   "source": [
    "faturamento = 1000\n",
    "type(faturamento)\n",
    "\n",
    "faturamento = 1000.00\n",
    "type(faturamento)\n",
    "\n",
    "faturamento = '1.000'\n",
    "type(faturamento)\n",
    "\n",
    "ganha_bonus = True\n",
    "type(ganha_bonus)\n"
   ]
  },
  {
   "cell_type": "code",
   "execution_count": 7,
   "metadata": {},
   "outputs": [
    {
     "name": "stdout",
     "output_type": "stream",
     "text": [
      "O faturamento da loja é 1000 reais\n"
     ]
    },
    {
     "data": {
      "text/plain": [
       "int"
      ]
     },
     "execution_count": 7,
     "metadata": {},
     "output_type": "execute_result"
    }
   ],
   "source": [
    "#Se não informar que a variável é uma string \n",
    "#ocorrerá um erro \n",
    "faturamento = 1000\n",
    "print('O faturamento da loja é ' + str(faturamento) +' reais')\n",
    "#v = int(faturamento)\n",
    "type(faturamento)"
   ]
  },
  {
   "cell_type": "code",
   "execution_count": 8,
   "metadata": {},
   "outputs": [
    {
     "name": "stdout",
     "output_type": "stream",
     "text": [
      "O faturamento da loja foi de 2000 a peste\n",
      "Varias variaveis no texto 12000, 2500 e 31500\n"
     ]
    }
   ],
   "source": [
    "#Inserir variável no TEXTO\n",
    "faturamento = 2000\n",
    "custo = 500\n",
    "lucro = faturamento - custo\n",
    "\n",
    "print('O faturamento da loja foi de {} a peste'.format(faturamento))\n",
    "print('Varias variaveis no texto 1{}, 2{} e 3{}'.format(faturamento, custo, lucro))"
   ]
  },
  {
   "cell_type": "code",
   "execution_count": 9,
   "metadata": {},
   "outputs": [
    {
     "name": "stdout",
     "output_type": "stream",
     "text": [
      "O faturamento da loja foi de 2000 a peste\n"
     ]
    }
   ],
   "source": [
    "#Outra maneira de inserir a variavel no texto\n",
    "#podemos tbm fazer calculos dentro das {}\n",
    "faturamento = 2000\n",
    "custo = 500\n",
    "lucro = faturamento - custo\n",
    "\n",
    "#f-string\n",
    "print(f\"O faturamento da loja foi de {faturamento} a peste\")\n"
   ]
  },
  {
   "cell_type": "code",
   "execution_count": 10,
   "metadata": {},
   "outputs": [
    {
     "name": "stdout",
     "output_type": "stream",
     "text": [
      "Não foi dessa vez cara de chibata\n"
     ]
    }
   ],
   "source": [
    "#Condição em Python \n",
    "\n",
    "meta_vendas_iphone = 50.000\n",
    "qtd_vendida_mes = int(input('Informe a quantidade vendidade de Iphone:'))\n",
    "if  qtd_vendida_mes >= meta_vendas_iphone:\n",
    "    print(f'Batemos a meta de {qtd_vendida_mes} nas vendas do Iphone')\n",
    "else:\n",
    "    print('Não foi dessa vez cara de chibata')\n"
   ]
  },
  {
   "cell_type": "code",
   "execution_count": 11,
   "metadata": {},
   "outputs": [
    {
     "ename": "ValueError",
     "evalue": "invalid literal for int() with base 10: ''",
     "output_type": "error",
     "traceback": [
      "\u001b[1;31m---------------------------------------------------------------------------\u001b[0m",
      "\u001b[1;31mValueError\u001b[0m                                Traceback (most recent call last)",
      "Cell \u001b[1;32mIn[11], line 1\u001b[0m\n\u001b[1;32m----> 1\u001b[0m a \u001b[38;5;241m=\u001b[39m \u001b[38;5;28;43mint\u001b[39;49m\u001b[43m(\u001b[49m\u001b[38;5;28;43minput\u001b[39;49m\u001b[43m(\u001b[49m\u001b[38;5;124;43m'\u001b[39;49m\u001b[38;5;124;43mEscreva um número:\u001b[39;49m\u001b[38;5;124;43m'\u001b[39;49m\u001b[43m)\u001b[49m\u001b[43m)\u001b[49m\n\u001b[0;32m      3\u001b[0m \u001b[38;5;28;01mif\u001b[39;00m a \u001b[38;5;241m==\u001b[39m \u001b[38;5;28mstr\u001b[39m:\n\u001b[0;32m      4\u001b[0m     \u001b[38;5;28mprint\u001b[39m(\u001b[38;5;124m'\u001b[39m\u001b[38;5;124mEsse valor está vazio\u001b[39m\u001b[38;5;124m'\u001b[39m)\n",
      "\u001b[1;31mValueError\u001b[0m: invalid literal for int() with base 10: ''"
     ]
    }
   ],
   "source": [
    "a = int(input('Escreva um número:'))\n",
    "\n",
    "if a == str:\n",
    "    print('Esse valor está vazio')\n",
    "elif a == 1:\n",
    "    print('O valor é 1')\n",
    "elif a == 2:\n",
    "    print('O valor é 2')\n",
    "elif a == 3:\n",
    "    print('O valor é 3')\n",
    "else:\n",
    "    print('Não consegui descobrir o valor inserido')"
   ]
  },
  {
   "cell_type": "code",
   "execution_count": null,
   "metadata": {},
   "outputs": [
    {
     "name": "stdout",
     "output_type": "stream",
     "text": [
      "Os valores informados foram (2, 2)\n",
      "Valor da soma 4 Valor da divisão {dividir_valores}\n",
      "Valor da divisão 1.0\n",
      "Valor da multiplicação 4\n",
      "Valor da potencia 4\n",
      "Valor inteiro 1\n",
      "Valor do resto da divisão 0\n"
     ]
    }
   ],
   "source": [
    "valor_1 = int(input('Informe valor 1'))\n",
    "valor_2 = int(input('Informe valor 2'))\n",
    "print(f'Os valores informados foram {valor_1, valor_2}')\n",
    "\n",
    "somar_valores = valor_1 + valor_2\n",
    "dividir_valores = valor_1 / valor_2\n",
    "multiplicar_valores = valor_1 * valor_2\n",
    "potencia_valores = valor_1 ** valor_2\n",
    "resultado_inteiro = valor_1 // valor_2\n",
    "resto_divisao = valor_1 % valor_2\n",
    "\n",
    "print(f'Valor da soma {somar_valores}') \n",
    "print(f'Valor da divisão {dividir_valores}')\n",
    "print(f'Valor da multiplicação {multiplicar_valores}')\n",
    "print(f'Valor da potencia {potencia_valores}')\n",
    "print(f'Valor inteiro {resultado_inteiro}')\n",
    "print(f'Valor do resto da divisão {resto_divisao}')"
   ]
  },
  {
   "cell_type": "markdown",
   "metadata": {},
   "source": [
    "> Operadores de comparação \n",
    "\n",
    "==  igual\n",
    "\n",
    "\n",
    "!= Diferente \n",
    "\n",
    "(>) maior que\n",
    "\n",
    "< menor que\n",
    " \n",
    "in texto existe dentro de outro texto\n",
    "not verifica o contrario da comparação\n",
    "\n",
    "\n",
    "OBS: Se em alguma condição você não quiser fazer nada, você pode simplesmente escrever: pass \n",
    "\n",
    "and -> Se eu quiser verificar dentro de um IF se há duas condições True  \n",
    "\n",
    "or ->  Se quiser verificar se uma das duas opção do IF é True\n",
    "\n"
   ]
  },
  {
   "cell_type": "code",
   "execution_count": null,
   "metadata": {},
   "outputs": [
    {
     "name": "stdout",
     "output_type": "stream",
     "text": [
      "Lista de Categoria: Alimentos, Bebidas e Limpeza\n"
     ]
    },
    {
     "ename": "AttributeError",
     "evalue": "'str' object has no attribute 'formmat'",
     "output_type": "error",
     "traceback": [
      "\u001b[1;31m---------------------------------------------------------------------------\u001b[0m",
      "\u001b[1;31mAttributeError\u001b[0m                            Traceback (most recent call last)",
      "Cell \u001b[1;32mIn[2], line 21\u001b[0m\n\u001b[0;32m     19\u001b[0m \u001b[38;5;28;01mif\u001b[39;00m categoria_produt \u001b[38;5;241m==\u001b[39m \u001b[38;5;124m'\u001b[39m\u001b[38;5;124mbebidas\u001b[39m\u001b[38;5;124m'\u001b[39m:\n\u001b[0;32m     20\u001b[0m     \u001b[38;5;28;01mif\u001b[39;00m qtd_produt \u001b[38;5;241m<\u001b[39m estoq_bebidas_min:\n\u001b[1;32m---> 21\u001b[0m         \u001b[38;5;28mprint\u001b[39m(\u001b[38;5;124;43m'\u001b[39;49m\u001b[38;5;124;43mSolicitar \u001b[39;49m\u001b[38;5;132;43;01m{}\u001b[39;49;00m\u001b[38;5;124;43m à equipe de compras, temos apenas \u001b[39;49m\u001b[38;5;132;43;01m{}\u001b[39;49;00m\u001b[38;5;124;43m unidades em estoque\u001b[39;49m\u001b[38;5;124;43m'\u001b[39;49m\u001b[38;5;241;43m.\u001b[39;49m\u001b[43mformmat\u001b[49m(nome_produt, qtd_produt))\n\u001b[0;32m     22\u001b[0m     \u001b[38;5;28;01melif\u001b[39;00m categoria_produt \u001b[38;5;241m==\u001b[39m \u001b[38;5;124m'\u001b[39m\u001b[38;5;124mlimpeza\u001b[39m\u001b[38;5;124m'\u001b[39m:\n\u001b[0;32m     23\u001b[0m         \u001b[38;5;28;01mif\u001b[39;00m qtd_produt \u001b[38;5;241m<\u001b[39m estoq_limpeza_min:\n",
      "\u001b[1;31mAttributeError\u001b[0m: 'str' object has no attribute 'formmat'"
     ]
    }
   ],
   "source": [
    "# alimentos -> Estoque mínimo 50\n",
    "estoq_alimentos_min = 10\n",
    "# bebidas -> Estoque mínimo 75\n",
    "estoq_bebidas_min = 10\n",
    "# limpeza -> Estoque mínomo 30\n",
    "estoq_limpeza_min = 10\n",
    "\n",
    "print('Lista de Categoria: Alimentos, Bebidas e Limpeza')\n",
    "nome_produt = input('Digite o nome do produto')\n",
    "categoria_produt = input('Digite a categoria do produto')\n",
    "qtd_produt = int(input('Informe quantos produtos irá para o estoque'))\n",
    "\n",
    "qtd_produt_estoq_a = qtd_produt + estoq_alimentos_min\n",
    "qtd_produt_estoq_b = qtd_produt + estoq_bebidas_min\n",
    "qtd_produt_estoq_l = qtd_produt + estoq_limpeza_min\n",
    "\n",
    "\n",
    "if nome_produt and categoria_produt and qtd_produt:\n",
    "    if categoria_produt == 'bebidas':\n",
    "        if qtd_produt < estoq_bebidas_min:\n",
    "            print('Solicitar {} à equipe de compras, temos apenas {} unidades em estoque'.formmat(nome_produt, qtd_produt))\n",
    "        elif categoria_produt == 'limpeza':\n",
    "            if qtd_produt < estoq_limpeza_min:\n",
    "                print('Solicitar {} à equipe de compras, temos apenas {} unidade em estoque'.format(nome_produt, qtd_produt))\n",
    "        else:\n",
    "            if qtd_produt < estoq_alimentos_min:\n",
    "                print('Solicitar {} à equipe de compras, temos apenas {} unidade em estoque'.format(nome_produt, qtd_produt))\n",
    "else:\n",
    "    print('Preencher todas as informações')              \n",
    "#if qtd_produt_estoq_a > estoq_alimentos_min and ('limentos' in categoria_produt) :\n",
    "#    print('Quantidade armazenada no estoque foi de {} do produto {} da categoria {}'.format(qtd_produt_estoq_a, nome_produt, categoria_produt))\n",
    "#elif qtd_produt_estoq_a < estoq_alimentos_min:\n",
    "#    print('Faça mais compras do produto {}. A quantidade solicitada é inferior {} que precisa haver em estoque'.format(nome_produt, estoq_alimentos_min))   \n",
    "#if qtd_produt_estoq_b > estoq_bebidas_min and ('ebidas' in categoria_produt) :\n",
    "#    print('Quantidade armazenada no estoque foi de {} do produto {} da categoria {}'.format(qtd_produt_estoq_b, nome_produt, categoria_produt))\n",
    "#elif qtd_produt_estoq_b < estoq_bebidas_min:\n",
    "#    print('Faça mais compras do produto {}. A quantidade solicitada é inferior {} que precisa haver em estoque'.format(nome_produt, estoq_bebidas_min))    \n",
    "#if qtd_produt_estoq_l > estoq_limpeza_min and ('impeza' in categoria_produt):\n",
    "#    print('Quantidade armazenada no estoque foi de {} do produto {} da categoria {}'.format(qtd_produt_estoq_l, nome_produt, categoria_produt))\n",
    "#elif qtd_produt_estoq_l < estoq_limpeza_min:\n",
    "#    print('Faça mais compras do produto {}. A quantidade solicitada é inferior {} que precisa haver em estoque'.format(nome_produt, estoq_limpeza_min))    \n",
    "#Vamos criar 3 inputs nome produto, categoria e \n",
    "# quantidade atual em estoque\n",
    "\n",
    "#Se tiver abaixo do mínimo da categoria printar \n",
    "#solicitar produto {tal} para compra temos apenas \n",
    "# {tanto} de quantidade  \n",
    "\n",
    "\n",
    "\n",
    "\n"
   ]
  },
  {
   "cell_type": "markdown",
   "metadata": {},
   "source": [
    "TRABALHANDO COM STRING EM PYTHON "
   ]
  },
  {
   "cell_type": "code",
   "execution_count": null,
   "metadata": {},
   "outputs": [
    {
     "name": "stdout",
     "output_type": "stream",
     "text": [
      "17\n",
      "l\n",
      "s\n",
      "leylson Rodrigu\n",
      "es\n",
      "gmail\n"
     ]
    }
   ],
   "source": [
    "email = 'leylson@gmail.com'\n",
    "nome = 'leylson'\n",
    "\n",
    "#LEN calcula o tamanha do texto\n",
    "print(len(email))\n",
    "\n",
    "#Imprimir ou pegar um item da lista de texto\n",
    "print(nome[0])\n",
    "\n",
    "#para imprimir o ultimo caractere de um texto ou lista por padrão \n",
    "#podemos utilizar o indice negativo [-1]\n",
    "\n",
    "nome1 = 'leylson Rodrigues'\n",
    "print(nome1[-1])\n",
    "\n",
    "#imprimir um texto todo menos os que selecionamos \n",
    "print(nome1[:-2])\n",
    "\n",
    "#altera a posição para imprimir um texto todo menos os que selecio...\n",
    "print(nome1[-2:])\n",
    "\n",
    "#imprimir somente o servidor de email \n",
    "print(email[8:13])"
   ]
  },
  {
   "cell_type": "code",
   "execution_count": null,
   "metadata": {},
   "outputs": [
    {
     "name": "stdout",
     "output_type": "stream",
     "text": [
      "Conte de 1 até 3\n",
      "Irei contar de: 1 até 2: \n"
     ]
    }
   ],
   "source": [
    "a = 1\n",
    "b = 2\n",
    "c = 3\n",
    "#Dentro de .format(a, b, c) funciona como indice \n",
    "print('Conte de {0} até {1}'.format(a, c))\n",
    "\n",
    "#Não muito recomendado a utilização mas seu uso é:\n",
    "# %d numero e %s string\n",
    "print('Irei contar de: %d até %d: ' % (a, b ))"
   ]
  },
  {
   "cell_type": "markdown",
   "metadata": {},
   "source": [
    "ESTRUTURA DE METODO \n",
    "\n",
    "Normalmente usamos essa estrutura para fazer as modificações\n",
    "texto.metodo()"
   ]
  },
  {
   "cell_type": "code",
   "execution_count": null,
   "metadata": {},
   "outputs": [
    {
     "name": "stdout",
     "output_type": "stream",
     "text": [
      "Leylson\n",
      "rodrigues\n",
      "3\n",
      "True\n",
      "7\n",
      "False\n",
      "False\n",
      "False\n",
      "1000,00\n",
      "leylson\n",
      "True\n",
      "leylson@gmail.com\n",
      "Leylson@Gmail.Com\n",
      "LEYLSON@GMAIL.COM\n"
     ]
    }
   ],
   "source": [
    "#CAPITALIZE DEIXA A PRIMEIRA LETRA DA VARIÁVEL MAIUSCULA \n",
    "texto = 'leylson'\n",
    "print(texto.capitalize())\n",
    "\n",
    "#CASEFOLD DEIXA A PRIMEIRA LETRA DA VARIÁVEL MINUSCULA\n",
    "texto = 'Rodrigues'\n",
    "print(texto.casefold())\n",
    "\n",
    "#Esse metodo irá contar quantos caracteres especificados nos ()\n",
    "#existe dentro da variável \n",
    "email = 'leylson@gmail.com'\n",
    "print(email.count('l'))\n",
    "\n",
    "#ENDSWITH irá buscar conforme o argumento especificado\n",
    "#A resposta do mesmo é True ou False \n",
    "print(email.endswith('gmail.com'))\n",
    "\n",
    "#Find procura um texto dentro de outro Texto e retorna a posição \n",
    "print(email.find('@'))\n",
    "\n",
    "#ISALNUM() verifica se os caractere é alfanumericos(letras e number)\n",
    "# OBS: Letras com acento e caracteres esepciais \"ç\" são letras p essa função\n",
    "#a = '123teste'\n",
    "print(email.isalnum())\n",
    "\n",
    "#Verifica se o texto é todo feito de letras\n",
    "print(email.isalpha())\n",
    "\n",
    "#Verifica se o texto é todo feito de números\n",
    "print(email.isnumeric())\n",
    "\n",
    "#REPLACE irá alterar o texto conforme informado no argumento\n",
    "a = '1000.00'\n",
    "print(a.replace('.',','))\n",
    "\n",
    "#SPLIT() separa uma string \n",
    "c = email.split('@')\n",
    "print(c[0])\n",
    "\n",
    "\n",
    "#STARTWITH verifica se a string começa com um determinado texto\n",
    "print(email.startswith('leylson'))\n",
    "\n",
    "#strip() Retira um caracter indesejado\n",
    "#Retira os espaços na frente e atrás \n",
    "print(email.strip())\n",
    "\n",
    "#Primeira letra da variavel maiuscula\n",
    "print(email.title())\n",
    "\n",
    "#upper todas as letras maiuscula\n",
    "print(email.upper())\n",
    "\n"
   ]
  },
  {
   "cell_type": "markdown",
   "metadata": {},
   "source": [
    "FORMAT - CONSULTAS \n",
    "\n",
    ":< Alinha o texto à esquerda\n",
    "\n",
    ":> Alinha o texto à direita\n",
    "\n",
    ":^ Alinha o texto ao centro \n",
    "\n",
    ":+ Coloca o sinal sempre na frente do número\n",
    "\n",
    ":, Coloca virgula como separador de milhar\n",
    "\n",
    ":_ Coloca o _ como separador de milhar\n",
    "\n",
    ":e Formato cientifico \n",
    "\n",
    ":f Número com quantidade fica de casas decimais\n",
    "\n",
    ":x Formato HEX minuscula (para cores)\n",
    "\n",
    ":X Fromato HEX maiuscula (para cores)\n",
    "\n",
    ":% Formato percentual"
   ]
  },
  {
   "cell_type": "code",
   "execution_count": null,
   "metadata": {},
   "outputs": [
    {
     "name": "stdout",
     "output_type": "stream",
     "text": [
      "Meu email é: leylson@gmail.com             , blz?\n",
      "Faturamento foi +2,700 e o lucro foi -2,300\n",
      "Quero duas casas decimais 5000.00\n"
     ]
    }
   ],
   "source": [
    "email = 'leylson@gmail.com'\n",
    "\n",
    "#A esquerda imprimir uma caixa de 30 caracteres \n",
    "print('Meu email é: {:<30}, blz?'.format(email))\n",
    "\n",
    "# Adiciono um sinal \n",
    "custo = 5000\n",
    "faturamento = 2700\n",
    "lucro = faturamento - custo\n",
    "print('Faturamento foi {:+,} e o lucro foi {:+,}'.format(faturamento, lucro))\n",
    "\n",
    "#Para definir as casas decimais informamos ponto. e quantidade de casas f\n",
    "print('Quero duas casas decimais {:.2f}'.format(custo))\n",
    "\n",
    "\n",
    "\n",
    "\n",
    "\n",
    "\n",
    "\n",
    "\n",
    "\n"
   ]
  },
  {
   "cell_type": "code",
   "execution_count": null,
   "metadata": {},
   "outputs": [
    {
     "name": "stdout",
     "output_type": "stream",
     "text": [
      "Digite seu nome e email corretamente\n"
     ]
    }
   ],
   "source": [
    "nome = input('Digite seu nome')\n",
    "email = input('digite o seu email')\n",
    "\n",
    "if nome and email:\n",
    "    #.fin() irá procurar o caractere informado como parametro\n",
    "    pos_a = email.find('@')\n",
    "    servidor = email[pos_a:]\n",
    "    if pos_a != -1 and '.' in servidor:\n",
    "        print('Cadastro concluído')\n",
    "    else:\n",
    "        print('Digite seu email corretamente')\n",
    "else: \n",
    "    print('Digite seu nome e email corretamente')"
   ]
  },
  {
   "cell_type": "code",
   "execution_count": null,
   "metadata": {},
   "outputs": [
    {
     "name": "stdout",
     "output_type": "stream",
     "text": [
      "25\n",
      "Preço de Janeiro 9\n"
     ]
    }
   ],
   "source": [
    "#Cortar textos em Python \n",
    "\n",
    "precos = 'Jan: 25, Fev: 27, Mar: 29'\n",
    "preco_jan = precos[5:7]\n",
    "print(preco_jan)\n",
    "\n",
    "preco_mar = precos[-1:]\n",
    "print('Preço de Janeiro {}'.format(preco_mar))"
   ]
  },
  {
   "cell_type": "code",
   "execution_count": null,
   "metadata": {},
   "outputs": [
    {
     "name": "stdout",
     "output_type": "stream",
     "text": [
      "13579\n"
     ]
    }
   ],
   "source": [
    "codigo = '1.2.3.4.5.6.7.8.9'\n",
    "\n",
    "#[::] Esse parametro irá pedir duas posições iniciais e de \n",
    "# quanto caractere deverá se repetir\n",
    "pedaco_cod = codigo[::4]\n",
    "print(pedaco_cod)"
   ]
  },
  {
   "cell_type": "markdown",
   "metadata": {},
   "source": [
    "LISTA PYTHON - METODOS E USOS\n"
   ]
  },
  {
   "cell_type": "code",
   "execution_count": null,
   "metadata": {},
   "outputs": [
    {
     "name": "stdout",
     "output_type": "stream",
     "text": [
      "0\n",
      "i[1]\n"
     ]
    }
   ],
   "source": [
    "#Para listas com grande número de dados podemos usar .index() para identificar a posição de \n",
    "#cada dado da lista\n",
    "produtos = ['tv', 'celular', 'tablet', 'mouse', 'teclado', 'geladeira', 'forno']\n",
    "estoque = [100, 150, 100, 120, 70, 180, 80]\n",
    "\n",
    "#Primeiramente devemos descobrir a posição \n",
    "i = produtos.index('tv')\n",
    "print(i)\n",
    "\n",
    "#Identificado a posição iremos imprimir\n",
    "print('i[1]')"
   ]
  },
  {
   "cell_type": "code",
   "execution_count": null,
   "metadata": {},
   "outputs": [
    {
     "name": "stdout",
     "output_type": "stream",
     "text": [
      "Temos 100 unidades de tablet no estoque\n"
     ]
    }
   ],
   "source": [
    "produto = str(input('Insira o nome do produto em letra minúscula'))\n",
    "if produto in produtos:\n",
    "    i = produtos.index(produto)\n",
    "    qtd_estoque = estoque[i]\n",
    "    print('Temos {} unidades de {} no estoque'.format(qtd_estoque, produto))\n",
    "else: \n",
    "    print('{} não existe no estoque'.format(produto))"
   ]
  },
  {
   "cell_type": "markdown",
   "metadata": {},
   "source": [
    "ADICIONAR E REMOVER ITENS DE UMA LISTA \n",
    "\n",
    "Irá adicionar um novo dado ao final da lista\n",
    "> lista.append(item)\n",
    "\n",
    "Para remover um item da lista \n",
    "> item_removido = lista.pop(indice)\n",
    "\n",
    "\n",
    "> lista.remove(item)\n",
    "\n"
   ]
  },
  {
   "cell_type": "code",
   "execution_count": null,
   "metadata": {},
   "outputs": [
    {
     "name": "stdout",
     "output_type": "stream",
     "text": [
      "['tv', 'celular', 'tablet', 'mouse', 'teclado', 'geladeira', 'forno']\n"
     ]
    }
   ],
   "source": [
    "#Adcionar um novo dado na lista\n",
    "#produtos.append('teste')\n",
    "\n",
    "#Descobrir posição indice\n",
    "#produtos.index('teste')\n",
    "\n",
    "#Remover dado da lista\n",
    "#produtos.remove('teste')\n",
    "\n",
    "#Alterar dado da lista por outro\n",
    "#produtos[7] = 'notbook'\n",
    "\n",
    "a = produtos.pop(7)\n",
    "print(produtos)"
   ]
  },
  {
   "cell_type": "code",
   "execution_count": 6,
   "metadata": {},
   "outputs": [
    {
     "name": "stdout",
     "output_type": "stream",
     "text": [
      "<Response [200]>\n"
     ]
    }
   ],
   "source": [
    "#CONSULTAR CNPJ \n",
    "\n",
    "import requests\n",
    "#cnpj = input('Informe o CNPJ sem espaço e caractere espeiciais')\n",
    "cnpj = 7221070000119\n",
    "from requests.structures import CaseInsensitiveDict\n",
    "#url = \"https://consultapublica.sefaz.ce.gov.br/sintegra/consultar?tipdocumento=2&numcnpjcgf={}\".format(cnpj)\n",
    "url = \"https://publica.cnpj.ws/cnpj/{}\".format(cnpj)\n",
    "\n",
    "resp = requests.get(url)\n",
    "\n",
    "print(resp)\n",
    "#print(response.headers['Date'])\n",
    "\n",
    "#Informações do cabeçalho\n",
    "#print(resp.headers)\n",
    "\n",
    "#for i, resps in enumerate(resp):\n",
    " #   print('Posição {} é referente ao seguinte dado {}'.format(i, resps))"
   ]
  },
  {
   "cell_type": "code",
   "execution_count": null,
   "metadata": {},
   "outputs": [
    {
     "name": "stdout",
     "output_type": "stream",
     "text": [
      "200\n",
      "{'current_user_url': 'https://api.github.com/user', 'current_user_authorizations_html_url': 'https://github.com/settings/connections/applications{/client_id}', 'authorizations_url': 'https://api.github.com/authorizations', 'code_search_url': 'https://api.github.com/search/code?q={query}{&page,per_page,sort,order}', 'commit_search_url': 'https://api.github.com/search/commits?q={query}{&page,per_page,sort,order}', 'emails_url': 'https://api.github.com/user/emails', 'emojis_url': 'https://api.github.com/emojis', 'events_url': 'https://api.github.com/events', 'feeds_url': 'https://api.github.com/feeds', 'followers_url': 'https://api.github.com/user/followers', 'following_url': 'https://api.github.com/user/following{/target}', 'gists_url': 'https://api.github.com/gists{/gist_id}', 'hub_url': 'https://api.github.com/hub', 'issue_search_url': 'https://api.github.com/search/issues?q={query}{&page,per_page,sort,order}', 'issues_url': 'https://api.github.com/issues', 'keys_url': 'https://api.github.com/user/keys', 'label_search_url': 'https://api.github.com/search/labels?q={query}&repository_id={repository_id}{&page,per_page}', 'notifications_url': 'https://api.github.com/notifications', 'organization_url': 'https://api.github.com/orgs/{org}', 'organization_repositories_url': 'https://api.github.com/orgs/{org}/repos{?type,page,per_page,sort}', 'organization_teams_url': 'https://api.github.com/orgs/{org}/teams', 'public_gists_url': 'https://api.github.com/gists/public', 'rate_limit_url': 'https://api.github.com/rate_limit', 'repository_url': 'https://api.github.com/repos/{owner}/{repo}', 'repository_search_url': 'https://api.github.com/search/repositories?q={query}{&page,per_page,sort,order}', 'current_user_repositories_url': 'https://api.github.com/user/repos{?type,page,per_page,sort}', 'starred_url': 'https://api.github.com/user/starred{/owner}{/repo}', 'starred_gists_url': 'https://api.github.com/gists/starred', 'topic_search_url': 'https://api.github.com/search/topics?q={query}{&page,per_page}', 'user_url': 'https://api.github.com/users/{user}', 'user_organizations_url': 'https://api.github.com/user/orgs', 'user_repositories_url': 'https://api.github.com/users/{user}/repos{?type,page,per_page,sort}', 'user_search_url': 'https://api.github.com/search/users?q={query}{&page,per_page,sort,order}'}\n"
     ]
    }
   ],
   "source": [
    "#CONSULTAR CNPJ\n",
    "\n",
    "import requests\n",
    "from requests.structures import CaseInsensitiveDict\n",
    "\n",
    "url = \"https://publica.cnpj.ws/cnpj/27865757000102\"\n",
    "\n",
    "resp = requests.get(url)\n",
    "\n",
    "print(resp.status_code)\n",
    "\n",
    "\n",
    "response = requests.get('http://api.github.com')\n",
    "print(response.json())"
   ]
  },
  {
   "cell_type": "code",
   "execution_count": null,
   "metadata": {},
   "outputs": [
    {
     "name": "stdout",
     "output_type": "stream",
     "text": [
      "A posição do maior valor é 2\n",
      "Mais vendido 150000\n",
      "Minimo vendido 100\n"
     ]
    }
   ],
   "source": [
    "vendas = [1000, 1500, 150000, 270, 500, 100, 1200]\n",
    "\n",
    "mais_vendido = max(vendas)\n",
    "minimo_vendido = min(vendas)\n",
    "i = vendas.index(mais_vendido)\n",
    "print('A posição do maior valor é {}'.format(i))\n",
    "\n",
    "print('Mais vendido {}'.format(mais_vendido))\n",
    "print('Minimo vendido {}'.format(minimo_vendido))"
   ]
  },
  {
   "cell_type": "code",
   "execution_count": null,
   "metadata": {},
   "outputs": [
    {
     "name": "stdout",
     "output_type": "stream",
     "text": [
      "['tv', 'celular', 'tablet', 'mouse', 'teclado', 'geladeira', 'forno']\n",
      "tv;celular;tablet;mouse;teclado;geladeira;forno\n",
      "tv\n",
      "celular\n",
      "tablet\n",
      "mouse\n",
      "teclado\n",
      "geladeira\n",
      "forno\n"
     ]
    }
   ],
   "source": [
    "print(produtos)\n",
    "print(';'.join(produtos))\n",
    "print('\\n'.join(produtos))"
   ]
  },
  {
   "cell_type": "code",
   "execution_count": null,
   "metadata": {},
   "outputs": [
    {
     "name": "stdout",
     "output_type": "stream",
     "text": [
      "teste@gmail.com\n",
      "[1, 2, 3, 4, 5, 6]\n",
      "7\n"
     ]
    }
   ],
   "source": [
    "email = 'teste@gmail'\n",
    "email1 = '.com'\n",
    "\n",
    "email2 = email + email1\n",
    "print(email2)\n",
    "\n",
    "a = [1, 2, 3]\n",
    "b = [4, 5, 6]\n",
    "print(a + b)\n",
    "\n",
    "print(a[0]+b[2])"
   ]
  },
  {
   "cell_type": "code",
   "execution_count": null,
   "metadata": {},
   "outputs": [
    {
     "name": "stdout",
     "output_type": "stream",
     "text": [
      "O máximo de vendas foi de 49051 no mês de nov\n",
      "Faturamento total foi de R$261,494\n",
      "O melhor mês representou 18.8% das vebdas do ano todo\n",
      "[25000, 29000, 22200, 17750, 15870, 19900, 19858, 20120, 17540, 15555, 49051, 9650]\n",
      "[49051]\n",
      "[25000, 29000, 22200, 17750, 15870, 19900, 19858, 20120, 17540, 15555, 9650]\n",
      "[49051]\n",
      "29000\n",
      "[49051, 29000]\n",
      "[25000, 22200, 17750, 15870, 19900, 19858, 20120, 17540, 15555, 9650]\n",
      "25000\n",
      "[49051, 29000, 25000]\n"
     ]
    }
   ],
   "source": [
    "meses = ['jan', 'fev', 'mar', 'abr', 'mai', 'jun', 'jul', 'ago', 'set', 'out', 'nov', 'dez']\n",
    "vendas_1sem = [25000, 29000, 22200, 17750, 15870, 19900]\n",
    "vendas_2sem = [19858, 20120, 17540, 15555, 49051, 9650]\n",
    "\n",
    "vendas_anual = vendas_1sem + vendas_2sem\n",
    "vendas_anual.index(49051)\n",
    "maior_venda = max(vendas_anual)\n",
    "#print(vendas_anual.index(49051))\n",
    "i_maior_valor  = vendas_anual.index(max(vendas_anual))\n",
    "\n",
    "print('O máximo de vendas foi de {} no mês de {}'.format(maior_venda, meses[i_maior_valor]))\n",
    "\n",
    "\n",
    "\n",
    "#CALCULAR FATURAMENTO\n",
    "fat_total = sum(vendas_anual)\n",
    "print('Faturamento total foi de R${:,}'.format(fat_total))\n",
    "\n",
    "#PERCENTUAL \n",
    "percentual = maior_venda / fat_total\n",
    "print('O melhor mês representou {:.1%} das vebdas do ano todo'.format(percentual))\n",
    "\n",
    "\n",
    "#TOP 3 DE VENDAS\n",
    "top3 = []\n",
    "\n",
    "print(vendas_anual)\n",
    "#print(maior_venda)\n",
    "top3.append(maior_venda)\n",
    "print(top3)\n",
    "vendas_anual.remove(maior_venda)\n",
    "print(vendas_anual)\n",
    "print(top3)\n",
    "maior_venda = max(vendas_anual)\n",
    "print(maior_venda)\n",
    "top3.append(maior_venda)\n",
    "print(top3)\n",
    "vendas_anual.remove(maior_venda)\n",
    "print(vendas_anual)\n",
    "maior_venda = max(vendas_anual)\n",
    "print(maior_venda)\n",
    "top3.append(maior_venda)\n",
    "print(top3)"
   ]
  },
  {
   "cell_type": "code",
   "execution_count": null,
   "metadata": {},
   "outputs": [
    {
     "name": "stdout",
     "output_type": "stream",
     "text": [
      "Quanto Leylson vendeu de Ipad?\n",
      "Leylson vendeu 100 Ipad\n",
      "Quando Rodrigues Vendeu de Iphone?\n",
      "Rodrigues vendeu 500 Iphones\n",
      "Qual o total de vendas de Iphone?\n",
      "Total de vendas de Iphone 1710\n",
      "Surgiu um novo dado, vendas de Mac! Preciso informar os dados do Mac...\n",
      "Nova lista de vendas[[100, 200, 10], [300, 500], [50, 1000], [900, 10]]\n",
      "Nova lista de vendas[[100, 200, 10], [300, 500, 15], [50, 1000], [900, 10]]\n",
      "Nova lista de vendas[[100, 200, 10], [300, 500, 15], [50, 1000, 6], [900, 10]]\n",
      "Nova lista de vendas[[100, 200, 10], [300, 500, 15], [50, 1000, 6], [900, 10, 70]]\n"
     ]
    }
   ],
   "source": [
    "vendedores = ['Leylson', 'Rodrigues', 'Moura', 'Teste']\n",
    "produtos = ['ipad', 'iphone']\n",
    "vendas = [\n",
    "    [100, 200],\n",
    "    [300, 500],\n",
    "    [50, 1000],\n",
    "    [900, 10],\n",
    "    \n",
    "]\n",
    "\n",
    "print('Quanto Leylson vendeu de Ipad?')\n",
    "print('Leylson vendeu {} Ipad'.format(vendas[0][0]))\n",
    "\n",
    "print('Quando Rodrigues Vendeu de Iphone?')\n",
    "print('Rodrigues vendeu {} Iphones'.format(vendas[1][1]))\n",
    "\n",
    "print('Qual o total de vendas de Iphone?')\n",
    "vendas_iphone = vendas[0][1] + vendas[1][1] + vendas[2][1] + vendas[3][1]\n",
    "print('Total de vendas de Iphone {}'.format(vendas_iphone))\n",
    "\n",
    "print('Surgiu um novo dado, vendas de Mac! Preciso informar os dados do Mac...')\n",
    "vendas_mac = [10, 15, 6, 70]\n",
    "vendas[0].append(vendas_mac[0])\n",
    "print('Nova lista de vendas{}'.format(vendas))\n",
    "vendas[1].append(vendas_mac[1])\n",
    "print('Nova lista de vendas{}'.format(vendas))\n",
    "vendas[2].append(vendas_mac[2])\n",
    "print('Nova lista de vendas{}'.format(vendas))\n",
    "vendas[3].append(vendas_mac[3])\n",
    "print('Nova lista de vendas{}'.format(vendas))"
   ]
  },
  {
   "cell_type": "code",
   "execution_count": null,
   "metadata": {},
   "outputs": [
    {
     "name": "stdout",
     "output_type": "stream",
     "text": [
      "40\n",
      "Vamos pagar de imposto a mais: R$ 200,000.0\n"
     ]
    }
   ],
   "source": [
    "produtos = ['computador',\n",
    "            'livro', \n",
    "            'tablet', \n",
    "            'celular', \n",
    "            'tv', \n",
    "            'ar condicionado', \n",
    "            'alexa', \n",
    "            'maquina de café', \n",
    "            'kindle'] \n",
    "\n",
    "produtos_ecomerce = [\n",
    "    [10000, 2500], \n",
    "    [50000, 40],\n",
    "    [7000, 1200], \n",
    "    [20000, 1500],\n",
    "    [5800, 1300], \n",
    "    [7200, 2500], \n",
    "    [200, 800], \n",
    "    [3300, 700], \n",
    "    [1900, 400]\n",
    "]\n",
    "\n",
    "\n",
    "qtde = 50000\n",
    "preco = 40\n",
    "total = qtde * preco\n",
    "#print('{:,}'.format(total))\n",
    "\n",
    "if 'livro' in produtos:\n",
    "    i_livro = produtos.index('livro')\n",
    "    #print(i_livro) -> Resultado 1 \n",
    "    print(produtos_ecomerce[i_livro][1])\n",
    "    total_antigo = produtos_ecomerce[i_livro][0] * produtos_ecomerce[i_livro][1]\n",
    "    #Nessa linha estamos informando 10% a mais no valor especificado na lista padrão.\n",
    "    produtos_ecomerce[i_livro][1] = produtos_ecomerce[i_livro][1] * 1.1\n",
    "    novo_total = produtos_ecomerce[i_livro][0] * produtos_ecomerce[i_livro][1]\n",
    "    print('Vamos pagar de imposto a mais: R$ {:,}'.format(novo_total - total_antigo))\n",
    "    "
   ]
  },
  {
   "cell_type": "markdown",
   "metadata": {},
   "source": [
    "## ESTRUTURA DE PERETIÇÃO: FOR "
   ]
  },
  {
   "cell_type": "code",
   "execution_count": null,
   "metadata": {},
   "outputs": [
    {
     "name": "stdout",
     "output_type": "stream",
     "text": [
      "0\n",
      "1\n",
      "2\n",
      "3\n",
      "4\n"
     ]
    }
   ],
   "source": [
    "for i in range(5):\n",
    "    #print('leo')\n",
    "    print(i)"
   ]
  },
  {
   "cell_type": "code",
   "execution_count": null,
   "metadata": {},
   "outputs": [
    {
     "name": "stdout",
     "output_type": "stream",
     "text": [
      "5\n",
      "15000 unidades produzidas de coca\n",
      "12000 unidades produzidas de pepsi\n",
      "13000 unidades produzidas de guarana\n",
      "5000 unidades produzidas de sprite\n",
      "250 unidades produzidas de fanta\n"
     ]
    }
   ],
   "source": [
    "produtos = ['coca', 'pepsi', 'guarana', 'sprite', 'fanta']\n",
    "producao = [15000, 12000, 13000, 5000, 250]\n",
    "tamanho = len(produtos)\n",
    "#print(tamanho)\n",
    "for i in range(tamanho):\n",
    "    print('{} unidades produzidas de {}'.format(producao[i], produtos[i]))"
   ]
  },
  {
   "cell_type": "markdown",
   "metadata": {},
   "source": [
    "* FOR \"EACH\""
   ]
  },
  {
   "cell_type": "code",
   "execution_count": null,
   "metadata": {},
   "outputs": [
    {
     "name": "stdout",
     "output_type": "stream",
     "text": [
      "O produto é coca\n",
      "O produto é pepsi\n",
      "O produto é guarana\n",
      "O produto é sprite\n",
      "O produto é fanta\n",
      "l\n",
      "e\n",
      "y\n",
      "l\n",
      "s\n",
      "o\n",
      "n\n",
      "s\n",
      "h\n",
      "@\n",
      "g\n",
      "m\n",
      "a\n",
      "i\n",
      "l\n",
      ".\n",
      "c\n",
      "o\n",
      "m\n"
     ]
    }
   ],
   "source": [
    "produtos = ['coca', 'pepsi', 'guarana', 'sprite', 'fanta']\n",
    "textos = 'leylsonsh@gmail.com'\n",
    "\n",
    "for produto in produtos:\n",
    "    print('O produto é {}'.format(produto))\n",
    "for texto in textos:\n",
    "    print(texto)"
   ]
  },
  {
   "cell_type": "markdown",
   "metadata": {},
   "source": [
    "** FOR + IF"
   ]
  },
  {
   "cell_type": "code",
   "execution_count": null,
   "metadata": {},
   "outputs": [
    {
     "name": "stdout",
     "output_type": "stream",
     "text": [
      "O percentual de pessoas que bateram a meta foi de 27.3%\n"
     ]
    }
   ],
   "source": [
    "vendas = [1200, 300, 800, 1500, 1900, 2750, 400, 20, 23, 70, 90, 80, 1100, 999, 880, 870, 50, 1111, 120, 300, 450, 800]\n",
    "meta = 1000\n",
    "\n",
    "qtd_pessoas = len(vendas)\n",
    "qtd_bateu_meta = 0\n",
    "for venda in vendas:\n",
    "    if venda >= meta:\n",
    "        qtd_bateu_meta += 1\n",
    "    else:\n",
    "        pass\n",
    "print('O percentual de pessoas que bateram a meta foi de {:.1%}'.format(qtd_bateu_meta / qtd_pessoas))\n"
   ]
  },
  {
   "cell_type": "code",
   "execution_count": null,
   "metadata": {},
   "outputs": [
    {
     "name": "stdout",
     "output_type": "stream",
     "text": [
      "0 é o funcionário Ana\n",
      "1 é o funcionário Bruno\n",
      "2 é o funcionário Carla\n",
      "3 é o funcionário Daniel\n",
      "4 é o funcionário Eduarda\n",
      "5 é o funcionário Felipe\n",
      "6 é o funcionário Gabriela\n",
      "7 é o funcionário Henrique\n",
      "8 é o funcionário Isabela\n",
      "9 é o funcionário João\n",
      "10 é o funcionário Larissa\n",
      "11 é o funcionário Marcos\n",
      "12 é o funcionário Nathalia\n",
      "13 é o funcionário Otávio\n",
      "14 é o funcionário Patrícia\n",
      "15 é o funcionário Rafael\n",
      "16 é o funcionário Sara\n",
      "17 é o funcionário Tiago\n",
      "18 é o funcionário Vitória\n",
      "19 é o funcionário William\n"
     ]
    }
   ],
   "source": [
    "funcionarios = [\"Ana\", \"Bruno\", \"Carla\", \"Daniel\", \"Eduarda\", \"Felipe\", \"Gabriela\", \"Henrique\", \"Isabela\", \"João\", \"Larissa\", \"Marcos\", \"Nathalia\", \"Otávio\", \"Patrícia\", \"Rafael\", \"Sara\", \"Tiago\", \"Vitória\", \"William\"]\n",
    "for i, funcionario in enumerate(funcionarios):\n",
    "    print('{} é o funcionário {}'.format(i, funcionario))"
   ]
  },
  {
   "cell_type": "code",
   "execution_count": null,
   "metadata": {},
   "outputs": [
    {
     "name": "stdout",
     "output_type": "stream",
     "text": [
      "feijão está abaixo do nível mínimo. Temos apenas  28 unidades\n",
      "açúcar está abaixo do nível mínimo. Temos apenas  12 unidades\n",
      "queijo está abaixo do nível mínimo. Temos apenas  25 unidades\n",
      "tomate está abaixo do nível mínimo. Temos apenas  17 unidades\n",
      "cebola está abaixo do nível mínimo. Temos apenas  23 unidades\n"
     ]
    }
   ],
   "source": [
    "estoque = [67, 28, 86, 45, 12, 74, 33, 52, 98, 41, 25, 64, 77, 36, 49, 89, 17, 92, 56, 23]\n",
    "produtos = ['arroz', 'feijão', 'macarrão', 'óleo', 'açúcar', 'sal', 'café', 'leite', 'pão', 'manteiga', 'queijo', 'presunto', 'ovos', 'frango', 'carne', 'alface', 'tomate', 'cenoura', 'batata', 'cebola']\n",
    "estoq_min = 30\n",
    "\n",
    "for i, qtde in enumerate(estoque):\n",
    "    if qtde < estoq_min:\n",
    "        print('{} está abaixo do nível mínimo. Temos apenas  {} unidades'.format(produtos[i], qtde))"
   ]
  },
  {
   "cell_type": "code",
   "execution_count": null,
   "metadata": {},
   "outputs": [
    {
     "name": "stdout",
     "output_type": "stream",
     "text": [
      "iphone 7000\n",
      "ipad 1000\n",
      "airpod 2500\n",
      "macbook 14000\n",
      "iphone 7700.000000000001\n",
      "ipad 1100.0\n",
      "airpod 2750.0\n",
      "macbook 15400.000000000002\n"
     ]
    }
   ],
   "source": [
    "produtos = ['iphone', 'ipad', 'airpod', 'macbook']\n",
    "precos = [7000, 1000, 2500, 14000]\n",
    "\n",
    "# Preco com imposto\n",
    "#for preco in precos:\n",
    "   # print(preco * 1.1)\n",
    "\n",
    "#Preco de cada produto\n",
    "for i in range(len(precos)):\n",
    "    produto = produtos[i]\n",
    "    preco = precos[i]\n",
    "    print(produto, preco)\n",
    "    \n",
    "# Preco de cada produto com imposto\n",
    "for i, preco in enumerate(precos):\n",
    "    preco = preco * 1.1\n",
    "    produto = produtos[i]\n",
    "    print(produto, preco)"
   ]
  },
  {
   "cell_type": "markdown",
   "metadata": {},
   "source": [
    "### Criando um Registro de Hóspedes\n",
    "\n",
    "Digamos que vc está criando o sistema para registrar a chegada de hóspedes em um hotel. No hotel, os hóspedes podem ter quartos com 1, 2, 3 e 4 pessoas. Seu sistema deve conseguir:\n",
    "\n",
    "1 - Identificar quantas pessoas o hóspede que acabou de chegar vai ter no quarto(Perguntando por meio de input) \n",
    "\n",
    "\n",
    "2 - De acordo com a quantidade de pessoas do hóspede, ele deve fazer um for para perguntar o cpf e o nome de cada pessoa, a fim de registrá-lo no quarto\n",
    "    {2 Dois input para cada pessoa, 1 para o cpf e outro para o nome}\n",
    "\n",
    "\n",
    "3 - O seu programa então debe gerar uma lista com todas as pessoas que ficarão no quarto em que cada item dessa lista é o nome da pessoa e o cpf da pessoa assim:"
   ]
  },
  {
   "cell_type": "code",
   "execution_count": null,
   "metadata": {},
   "outputs": [],
   "source": [
    "quarto = [\n",
    "    ['João', 'cpf:000000000000'],\n",
    "    ['Julia', 'cpf:11111111111'],\n",
    "    ['Marcus', 'cpf:222222222222'],\n",
    "    ['Maria', 'cpf:333333333333'],\n",
    "]\n",
    "\n"
   ]
  },
  {
   "cell_type": "code",
   "execution_count": null,
   "metadata": {},
   "outputs": [
    {
     "name": "stdout",
     "output_type": "stream",
     "text": [
      "[['Leylson', 'cpf: 000000000000']]\n"
     ]
    }
   ],
   "source": [
    "qtde_pessoas = int(input('Quantas pessoas terão no quarto?'))\n",
    "quarto = []\n",
    "\n",
    "for i in range(qtde_pessoas):\n",
    "    nome = input('Qual o nome?')\n",
    "    cpf = input('Qual o cpf?')\n",
    "    hospede = [nome, 'cpf: {}'.format(cpf)]\n",
    "    quarto.append(hospede)\n",
    "    print(quarto)"
   ]
  },
  {
   "cell_type": "code",
   "execution_count": null,
   "metadata": {},
   "outputs": [
    {
     "name": "stdout",
     "output_type": "stream",
     "text": [
      "Vendedor João bateu a meta. Fez 15000 vendas\n",
      "Vendedor Julia bateu a meta. Fez 27000 vendas\n",
      "Vendedor Ana bateu a meta. Fez 10300 vendas\n"
     ]
    }
   ],
   "source": [
    "meta = 10000\n",
    "vendas = [\n",
    "    ['João', 15000],\n",
    "    ['Julia', 27000],\n",
    "    ['Marcus', 9900],\n",
    "    ['Maria', 3750],\n",
    "    ['Ana', 10300],\n",
    "    ['Alon', 7870]\n",
    "]\n",
    "\n",
    "for item in vendas:\n",
    "    if item[1]>= meta:\n",
    "        print('Vendedor {} bateu a meta. Fez {} vendas'.format(item[0], item[1]))"
   ]
  },
  {
   "cell_type": "code",
   "execution_count": null,
   "metadata": {},
   "outputs": [
    {
     "name": "stdout",
     "output_type": "stream",
     "text": [
      "iphone vendeu R$558,147 em 2019, R$951,642 em 2020 e teve 70.5% de crescimento\n",
      "tv vendeu R$405,252 em 2019, R$787,604 em 2020 e teve 94.3% de crescimento\n",
      "máquina de café vendeu R$718,654 em 2019, R$867,660 em 2020 e teve 20.7% de crescimento\n",
      "notebook dell vendeu R$422,760 em 2019, R$694,913 em 2020 e teve 64.4% de crescimento\n",
      "notebook hp vendeu R$154,753 em 2019, R$539,704 em 2020 e teve 248.8% de crescimento\n",
      "microsoft surface vendeu R$438,508 em 2019, R$667,179 em 2020 e teve 52.1% de crescimento\n",
      "webcam vendeu R$237,467 em 2019, R$295,633 em 2020 e teve 24.5% de crescimento\n",
      "caixa de som vendeu R$489,705 em 2019, R$725,316 em 2020 e teve 48.1% de crescimento\n",
      "microfone vendeu R$328,311 em 2019, R$644,622 em 2020 e teve 96.3% de crescimento\n",
      "câmera canon vendeu R$591,120 em 2019, R$994,303 em 2020 e teve 68.2% de crescimento\n"
     ]
    }
   ],
   "source": [
    "produtos = ['iphone', 'galaxy', 'ipad', 'tv', 'máquina de café', 'kindle', 'geladeira', 'adega', 'notebook dell', 'notebook hp', 'notebook asus', 'microsoft surface', 'webcam', 'caixa de som', 'microfone', 'câmera canon']\n",
    "vendas2019 = [558147,712350,573823,405252,718654,531580,973139,892292,422760,154753,887061,438508,237467,489705,328311,591120]\n",
    "vendas2020 = [951642,244295,26964,787604,867660,78830,710331,646016,694913,539704,324831,667179,295633,725316,644622,994303]\n",
    "\n",
    "for i, produto in enumerate(produtos):\n",
    "    if vendas2020[i] > vendas2019[i]:\n",
    "        crescimento = vendas2020[i] / vendas2019[i] - 1\n",
    "        print('{} vendeu R${:,} em 2019, R${:,} em 2020 e teve {:.1%} de crescimento'.format(produto, vendas2019[i], vendas2020[i], crescimento))"
   ]
  },
  {
   "cell_type": "markdown",
   "metadata": {},
   "source": [
    "Vamos pegar um exemplo de nível mínimo de estoque. Em uma fábrica você tem vários produtos e não pode deixar que os produtos fiquem em falta. Para isso, foi definido uma quantidade mínima de estoque que os produtos precisam ter:\n",
    "\n",
    "Identifique quais fábricas tem algum produto abaixo do nível de estoque\n",
    "\n",
    "- Agora ao invés de analisar o estoque de apenas 1 fábrica, vamos analisar o estoque de várias fábricas"
   ]
  },
  {
   "cell_type": "code",
   "execution_count": 27,
   "metadata": {},
   "outputs": [
    {
     "name": "stdout",
     "output_type": "stream",
     "text": [
      "['Lira Manufacturing', 'Fábrica Hashtag', 'Python Manufaturas']\n"
     ]
    }
   ],
   "source": [
    "estoque = [\n",
    "    [294, 125, 269, 208, 783, 852, 259, 371, 47, 102, 386, 87, 685, 686, 697, 941, 163, 631, 7, 714, 218, 670, 453],\n",
    "    [648, 816, 310, 555, 992, 643, 226, 319, 501, 23, 239, 42, 372, 441, 126, 645, 927, 911, 761, 445, 974, 2, 549],\n",
    "    [832, 683, 784, 449, 977, 705, 198, 937, 729, 327, 339, 10, 975, 310, 95, 689, 137, 795, 211, 538, 933, 751, 522],\n",
    "    [837, 168, 570, 397, 53, 297, 966, 714, 72, 737, 259, 629, 625, 469, 922, 305, 782, 243, 841, 848, 372, 621, 362],\n",
    "    [429, 242, 53, 985, 406, 186, 198, 50, 501, 870, 781, 632, 781, 105, 644, 509, 401, 88, 961, 765, 422, 340, 654],\n",
    "]\n",
    "fabricas = ['Lira Manufacturing', 'Fábrica Hashtag', 'Python Manufaturas', 'Produções e Cia', 'Manufatura e Cia']\n",
    "nivel_minimo = 50\n",
    "fabricas_abaixo = []\n",
    "\n",
    "for i, lista in enumerate(estoque):\n",
    "    for qtde in lista:\n",
    "        if qtde < nivel_minimo:\n",
    "            if fabricas[i] in fabricas_abaixo:\n",
    "                pass\n",
    "            else:\n",
    "                fabricas_abaixo.append(fabricas[i])\n",
    "            #print('{} tem nível de estoque {}'.format(fabricas[i], qtde))\n",
    "print(fabricas_abaixo)"
   ]
  }
 ],
 "metadata": {
  "kernelspec": {
   "display_name": "Python 3",
   "language": "python",
   "name": "python3"
  },
  "language_info": {
   "codemirror_mode": {
    "name": "ipython",
    "version": 3
   },
   "file_extension": ".py",
   "mimetype": "text/x-python",
   "name": "python",
   "nbconvert_exporter": "python",
   "pygments_lexer": "ipython3",
   "version": "3.11.9"
  }
 },
 "nbformat": 4,
 "nbformat_minor": 2
}
